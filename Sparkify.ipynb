{
 "cells": [
  {
   "cell_type": "markdown",
   "metadata": {},
   "source": [
    "# Sparkify Project Workspace \n",
    "This workspace contains a tiny subset (128MB) of the full dataset available (12GB). Feel free to use this workspace to build your project, or to explore a smaller subset with Spark before deploying your cluster on the cloud. Instructions for setting up your Spark cluster is included in the last lesson of the Extracurricular Spark Course content.\n",
    "\n",
    "You can follow the steps below to guide your data analysis and model building portion of this project."
   ]
  },
  {
   "cell_type": "code",
   "execution_count": 111,
   "metadata": {},
   "outputs": [],
   "source": [
    "# import libraries\n",
    "from pyspark.sql import SparkSession\n",
    "from pyspark.sql.functions import udf\n",
    "from pyspark.sql.types import StringType\n",
    "from pyspark.sql.types import IntegerType\n",
    "from pyspark.sql import functions as F\n",
    "from pyspark.sql.functions import desc\n",
    "from pyspark.sql.functions import asc, col, collect_list, collect_set\n",
    "from pyspark.sql.functions import sum as Fsum\n",
    "\n",
    "import datetime\n",
    "\n",
    "import numpy as np\n",
    "import pandas as pd\n",
    "%matplotlib inline\n",
    "import matplotlib.pyplot as plt\n",
    "\n",
    "from pyspark.ml import Pipeline\n",
    "from pyspark.ml.classification import LogisticRegression\n",
    "from pyspark.ml.evaluation import BinaryClassificationEvaluator\n",
    "from pyspark.ml.feature import CountVectorizer, IDF, Normalizer, PCA, RegexTokenizer, StandardScaler, StopWordsRemover, StringIndexer, VectorAssembler\n",
    "from pyspark.ml.regression import LinearRegression\n",
    "from pyspark.ml.tuning import CrossValidator, ParamGridBuilder\n"
   ]
  },
  {
   "cell_type": "code",
   "execution_count": 2,
   "metadata": {},
   "outputs": [],
   "source": [
    "# create a Spark session\n",
    "spark = SparkSession \\\n",
    "    .builder \\\n",
    "    .appName(\"sparkify\") \\\n",
    "    .getOrCreate()"
   ]
  },
  {
   "cell_type": "markdown",
   "metadata": {},
   "source": [
    "# Load and Clean Dataset\n",
    "Clean your dataset, checking for invalid or missing data. For example, records without userids or sessionids. In this workspace, the filename is `mini_sparkify_event_data.json`."
   ]
  },
  {
   "cell_type": "code",
   "execution_count": 3,
   "metadata": {},
   "outputs": [],
   "source": [
    "path = 'mini_sparkify_event_data.json'\n",
    "user_log = spark.read.json(path)"
   ]
  },
  {
   "cell_type": "code",
   "execution_count": 4,
   "metadata": {},
   "outputs": [
    {
     "name": "stdout",
     "output_type": "stream",
     "text": [
      "root\n",
      " |-- artist: string (nullable = true)\n",
      " |-- auth: string (nullable = true)\n",
      " |-- firstName: string (nullable = true)\n",
      " |-- gender: string (nullable = true)\n",
      " |-- itemInSession: long (nullable = true)\n",
      " |-- lastName: string (nullable = true)\n",
      " |-- length: double (nullable = true)\n",
      " |-- level: string (nullable = true)\n",
      " |-- location: string (nullable = true)\n",
      " |-- method: string (nullable = true)\n",
      " |-- page: string (nullable = true)\n",
      " |-- registration: long (nullable = true)\n",
      " |-- sessionId: long (nullable = true)\n",
      " |-- song: string (nullable = true)\n",
      " |-- status: long (nullable = true)\n",
      " |-- ts: long (nullable = true)\n",
      " |-- userAgent: string (nullable = true)\n",
      " |-- userId: string (nullable = true)\n",
      "\n"
     ]
    }
   ],
   "source": [
    "user_log.printSchema()"
   ]
  },
  {
   "cell_type": "code",
   "execution_count": 5,
   "metadata": {},
   "outputs": [
    {
     "data": {
      "text/plain": [
       "DataFrame[summary: string, artist: string, auth: string, firstName: string, gender: string, itemInSession: string, lastName: string, length: string, level: string, location: string, method: string, page: string, registration: string, sessionId: string, song: string, status: string, ts: string, userAgent: string, userId: string]"
      ]
     },
     "execution_count": 5,
     "metadata": {},
     "output_type": "execute_result"
    }
   ],
   "source": [
    "user_log.describe()"
   ]
  },
  {
   "cell_type": "code",
   "execution_count": 6,
   "metadata": {},
   "outputs": [
    {
     "name": "stdout",
     "output_type": "stream",
     "text": [
      "+-------+------------------+----------+---------+------+------------------+--------+-----------------+------+-----------------+------+-------+--------------------+-----------------+--------------------+------------------+--------------------+--------------------+-----------------+\n",
      "|summary|            artist|      auth|firstName|gender|     itemInSession|lastName|           length| level|         location|method|   page|        registration|        sessionId|                song|            status|                  ts|           userAgent|           userId|\n",
      "+-------+------------------+----------+---------+------+------------------+--------+-----------------+------+-----------------+------+-------+--------------------+-----------------+--------------------+------------------+--------------------+--------------------+-----------------+\n",
      "|  count|            228108|    286500|   278154|278154|            286500|  278154|           228108|286500|           278154|286500| 286500|              278154|           286500|              228108|            286500|              286500|              278154|           286500|\n",
      "|   mean| 551.0852017937219|      null|     null|  null|114.41421291448516|    null|249.1171819778458|  null|             null|  null|   null|1.535358834084427...|1041.526554973822|            Infinity|210.05459685863875|1.540956889810483...|                null|59682.02278593872|\n",
      "| stddev|1217.7693079161374|      null|     null|  null|129.76726201140994|    null|99.23517921058361|  null|             null|  null|   null| 3.291321616327586E9|726.7762634630741|                 NaN| 31.50507848842214|1.5075439608226302E9|                null|109091.9499991047|\n",
      "|    min|               !!!| Cancelled| Adelaida|     F|                 0|   Adams|          0.78322|  free|       Albany, OR|   GET|  About|       1521380675000|                1|\u001c",
      "ÃÂg ÃÂtti Gr...|               200|       1538352117000|\"Mozilla/5.0 (Mac...|                 |\n",
      "|    max| ÃÂlafur Arnalds|Logged Out|   Zyonna|     M|              1321|  Wright|       3024.66567|  paid|Winston-Salem, NC|   PUT|Upgrade|       1543247354000|             2474|ÃÂau hafa slopp...|               404|       1543799476000|Mozilla/5.0 (comp...|               99|\n",
      "+-------+------------------+----------+---------+------+------------------+--------+-----------------+------+-----------------+------+-------+--------------------+-----------------+--------------------+------------------+--------------------+--------------------+-----------------+\n",
      "\n"
     ]
    }
   ],
   "source": [
    "user_log.describe().show()"
   ]
  },
  {
   "cell_type": "code",
   "execution_count": 7,
   "metadata": {},
   "outputs": [
    {
     "data": {
      "text/plain": [
       "[Row(artist='Martha Tilston', auth='Logged In', firstName='Colin', gender='M', itemInSession=50, lastName='Freeman', length=277.89016, level='paid', location='Bakersfield, CA', method='PUT', page='NextSong', registration=1538173362000, sessionId=29, song='Rockpools', status=200, ts=1538352117000, userAgent='Mozilla/5.0 (Windows NT 6.1; WOW64; rv:31.0) Gecko/20100101 Firefox/31.0', userId='30'),\n",
       " Row(artist='Five Iron Frenzy', auth='Logged In', firstName='Micah', gender='M', itemInSession=79, lastName='Long', length=236.09424, level='free', location='Boston-Cambridge-Newton, MA-NH', method='PUT', page='NextSong', registration=1538331630000, sessionId=8, song='Canada', status=200, ts=1538352180000, userAgent='\"Mozilla/5.0 (Windows NT 6.1; WOW64) AppleWebKit/537.36 (KHTML, like Gecko) Chrome/37.0.2062.103 Safari/537.36\"', userId='9'),\n",
       " Row(artist='Adam Lambert', auth='Logged In', firstName='Colin', gender='M', itemInSession=51, lastName='Freeman', length=282.8273, level='paid', location='Bakersfield, CA', method='PUT', page='NextSong', registration=1538173362000, sessionId=29, song='Time For Miracles', status=200, ts=1538352394000, userAgent='Mozilla/5.0 (Windows NT 6.1; WOW64; rv:31.0) Gecko/20100101 Firefox/31.0', userId='30')]"
      ]
     },
     "execution_count": 7,
     "metadata": {},
     "output_type": "execute_result"
    }
   ],
   "source": [
    "user_log.take(3)"
   ]
  },
  {
   "cell_type": "code",
   "execution_count": 8,
   "metadata": {},
   "outputs": [
    {
     "name": "stdout",
     "output_type": "stream",
     "text": [
      "+-------+-----------------+\n",
      "|summary|           userId|\n",
      "+-------+-----------------+\n",
      "|  count|           286500|\n",
      "|   mean|59682.02278593872|\n",
      "| stddev|109091.9499991047|\n",
      "|    min|                 |\n",
      "|    max|               99|\n",
      "+-------+-----------------+\n",
      "\n"
     ]
    }
   ],
   "source": [
    "user_log.describe(\"userId\").show()"
   ]
  },
  {
   "cell_type": "code",
   "execution_count": 9,
   "metadata": {},
   "outputs": [],
   "source": [
    "user_log_valid = user_log.dropna(how = \"any\", subset = [\"userId\", \"sessionId\"])"
   ]
  },
  {
   "cell_type": "code",
   "execution_count": 10,
   "metadata": {},
   "outputs": [
    {
     "data": {
      "text/plain": [
       "286500"
      ]
     },
     "execution_count": 10,
     "metadata": {},
     "output_type": "execute_result"
    }
   ],
   "source": [
    "user_log_valid.count()"
   ]
  },
  {
   "cell_type": "code",
   "execution_count": 11,
   "metadata": {},
   "outputs": [
    {
     "data": {
      "text/plain": [
       "286500"
      ]
     },
     "execution_count": 11,
     "metadata": {},
     "output_type": "execute_result"
    }
   ],
   "source": [
    "user_log.count()"
   ]
  },
  {
   "cell_type": "code",
   "execution_count": 12,
   "metadata": {},
   "outputs": [],
   "source": [
    "user_log_valid = user_log_valid.filter(user_log_valid[\"userId\"] != \"\")"
   ]
  },
  {
   "cell_type": "code",
   "execution_count": 13,
   "metadata": {},
   "outputs": [
    {
     "data": {
      "text/plain": [
       "278154"
      ]
     },
     "execution_count": 13,
     "metadata": {},
     "output_type": "execute_result"
    }
   ],
   "source": [
    "user_log_valid.count()"
   ]
  },
  {
   "cell_type": "code",
   "execution_count": 14,
   "metadata": {},
   "outputs": [],
   "source": [
    "user_log = user_log_valid"
   ]
  },
  {
   "cell_type": "code",
   "execution_count": 15,
   "metadata": {},
   "outputs": [
    {
     "name": "stdout",
     "output_type": "stream",
     "text": [
      "+--------------------+\n",
      "|                page|\n",
      "+--------------------+\n",
      "|               About|\n",
      "|          Add Friend|\n",
      "|     Add to Playlist|\n",
      "|              Cancel|\n",
      "|Cancellation Conf...|\n",
      "|           Downgrade|\n",
      "|               Error|\n",
      "|                Help|\n",
      "|                Home|\n",
      "|              Logout|\n",
      "|            NextSong|\n",
      "|         Roll Advert|\n",
      "|       Save Settings|\n",
      "|            Settings|\n",
      "|    Submit Downgrade|\n",
      "|      Submit Upgrade|\n",
      "|         Thumbs Down|\n",
      "|           Thumbs Up|\n",
      "|             Upgrade|\n",
      "+--------------------+\n",
      "\n"
     ]
    }
   ],
   "source": [
    "user_log.select(\"page\").dropDuplicates().sort(\"page\").show()"
   ]
  },
  {
   "cell_type": "code",
   "execution_count": 16,
   "metadata": {},
   "outputs": [
    {
     "name": "stdout",
     "output_type": "stream",
     "text": [
      "+------+-----+\n",
      "|userId|count|\n",
      "+------+-----+\n",
      "|    39| 9632|\n",
      "|    92| 7230|\n",
      "|   140| 6880|\n",
      "|300011| 5732|\n",
      "|   124| 4825|\n",
      "|300021| 4659|\n",
      "|300017| 4428|\n",
      "|    85| 4370|\n",
      "|    42| 4257|\n",
      "|200023| 3769|\n",
      "|     6| 3761|\n",
      "|    29| 3603|\n",
      "|    54| 3437|\n",
      "|   100| 3214|\n",
      "|     9| 3191|\n",
      "|   126| 3102|\n",
      "|300015| 3051|\n",
      "|    91| 3014|\n",
      "|    98| 2891|\n",
      "|    74| 2887|\n",
      "+------+-----+\n",
      "only showing top 20 rows\n",
      "\n"
     ]
    }
   ],
   "source": [
    "user_log.groupby([\"userId\"]).count().orderBy(desc(\"count\")).show()"
   ]
  },
  {
   "cell_type": "markdown",
   "metadata": {},
   "source": [
    "# Exploratory Data Analysis\n",
    "When you're working with the full dataset, perform EDA by loading a small subset of the data and doing basic manipulations within Spark. In this workspace, you are already provided a small subset of data you can explore.\n",
    "\n",
    "### Define Churn\n",
    "\n",
    "Once you've done some preliminary analysis, create a column `Churn` to use as the label for your model. I suggest using the `Cancellation Confirmation` events to define your churn, which happen for both paid and free users. As a bonus task, you can also look into the `Downgrade` events.\n",
    "\n",
    "### Explore Data\n",
    "Once you've defined churn, perform some exploratory data analysis to observe the behavior for users who stayed vs users who churned. You can start by exploring aggregates on these two groups of users, observing how much of a specific action they experienced per a certain time unit or number of songs played."
   ]
  },
  {
   "cell_type": "code",
   "execution_count": 17,
   "metadata": {},
   "outputs": [
    {
     "name": "stdout",
     "output_type": "stream",
     "text": [
      "52\n"
     ]
    },
    {
     "data": {
      "text/plain": [
       "[Row(userId='125'),\n",
       " Row(userId='51'),\n",
       " Row(userId='54'),\n",
       " Row(userId='100014'),\n",
       " Row(userId='101'),\n",
       " Row(userId='29'),\n",
       " Row(userId='100021'),\n",
       " Row(userId='87'),\n",
       " Row(userId='73'),\n",
       " Row(userId='3'),\n",
       " Row(userId='28'),\n",
       " Row(userId='100022'),\n",
       " Row(userId='100025'),\n",
       " Row(userId='300007'),\n",
       " Row(userId='100006'),\n",
       " Row(userId='18'),\n",
       " Row(userId='70'),\n",
       " Row(userId='100005'),\n",
       " Row(userId='17'),\n",
       " Row(userId='100007'),\n",
       " Row(userId='300001'),\n",
       " Row(userId='100009'),\n",
       " Row(userId='100015'),\n",
       " Row(userId='200024'),\n",
       " Row(userId='100003'),\n",
       " Row(userId='103'),\n",
       " Row(userId='100024'),\n",
       " Row(userId='53'),\n",
       " Row(userId='122'),\n",
       " Row(userId='200017'),\n",
       " Row(userId='58'),\n",
       " Row(userId='100011'),\n",
       " Row(userId='100019'),\n",
       " Row(userId='100012'),\n",
       " Row(userId='200018'),\n",
       " Row(userId='200016'),\n",
       " Row(userId='200020'),\n",
       " Row(userId='106'),\n",
       " Row(userId='143'),\n",
       " Row(userId='32'),\n",
       " Row(userId='200001'),\n",
       " Row(userId='105'),\n",
       " Row(userId='200011'),\n",
       " Row(userId='100023'),\n",
       " Row(userId='100013'),\n",
       " Row(userId='100017'),\n",
       " Row(userId='121'),\n",
       " Row(userId='12'),\n",
       " Row(userId='200015'),\n",
       " Row(userId='129'),\n",
       " Row(userId='200021'),\n",
       " Row(userId='100001')]"
      ]
     },
     "execution_count": 17,
     "metadata": {},
     "output_type": "execute_result"
    }
   ],
   "source": [
    "# Select the user that has \"Cancellation Confirmation\" event\n",
    "churn_users = user_log.filter(user_log.page == \"Cancellation Confirmation\").select([\"userId\"]).dropDuplicates([\"userId\"])\n",
    "num_churn_users = churn_users.count()\n",
    "print(num_churn_users)\n",
    "churn_users.collect()"
   ]
  },
  {
   "cell_type": "code",
   "execution_count": 18,
   "metadata": {},
   "outputs": [
    {
     "name": "stdout",
     "output_type": "stream",
     "text": [
      "225\n"
     ]
    }
   ],
   "source": [
    "all_users = user_log.select([\"userId\"]).dropDuplicates([\"userId\"])\n",
    "num_all_users = all_users.count()\n",
    "print(num_all_users)"
   ]
  },
  {
   "cell_type": "code",
   "execution_count": 19,
   "metadata": {},
   "outputs": [
    {
     "name": "stdout",
     "output_type": "stream",
     "text": [
      "DataFrame[userId: string]\n"
     ]
    },
    {
     "data": {
      "text/plain": [
       "[Row(userId='100010'),\n",
       " Row(userId='200002'),\n",
       " Row(userId='124'),\n",
       " Row(userId='7'),\n",
       " Row(userId='15'),\n",
       " Row(userId='155'),\n",
       " Row(userId='132'),\n",
       " Row(userId='154'),\n",
       " Row(userId='11'),\n",
       " Row(userId='138'),\n",
       " Row(userId='300017'),\n",
       " Row(userId='69'),\n",
       " Row(userId='112'),\n",
       " Row(userId='42'),\n",
       " Row(userId='200010'),\n",
       " Row(userId='64'),\n",
       " Row(userId='113'),\n",
       " Row(userId='30'),\n",
       " Row(userId='34'),\n",
       " Row(userId='133'),\n",
       " Row(userId='59'),\n",
       " Row(userId='139'),\n",
       " Row(userId='146'),\n",
       " Row(userId='8'),\n",
       " Row(userId='22'),\n",
       " Row(userId='300018'),\n",
       " Row(userId='300012'),\n",
       " Row(userId='85'),\n",
       " Row(userId='16'),\n",
       " Row(userId='35'),\n",
       " Row(userId='52'),\n",
       " Row(userId='300008'),\n",
       " Row(userId='71'),\n",
       " Row(userId='300013'),\n",
       " Row(userId='98'),\n",
       " Row(userId='100008'),\n",
       " Row(userId='47'),\n",
       " Row(userId='99'),\n",
       " Row(userId='107'),\n",
       " Row(userId='110'),\n",
       " Row(userId='300006'),\n",
       " Row(userId='300002'),\n",
       " Row(userId='96'),\n",
       " Row(userId='43'),\n",
       " Row(userId='5'),\n",
       " Row(userId='100'),\n",
       " Row(userId='27'),\n",
       " Row(userId='61'),\n",
       " Row(userId='75'),\n",
       " Row(userId='126'),\n",
       " Row(userId='131'),\n",
       " Row(userId='140'),\n",
       " Row(userId='26'),\n",
       " Row(userId='120'),\n",
       " Row(userId='200007'),\n",
       " Row(userId='46'),\n",
       " Row(userId='300004'),\n",
       " Row(userId='147'),\n",
       " Row(userId='300015'),\n",
       " Row(userId='78'),\n",
       " Row(userId='77'),\n",
       " Row(userId='89'),\n",
       " Row(userId='136'),\n",
       " Row(userId='118'),\n",
       " Row(userId='6'),\n",
       " Row(userId='300019'),\n",
       " Row(userId='200014'),\n",
       " Row(userId='300011'),\n",
       " Row(userId='100004'),\n",
       " Row(userId='104'),\n",
       " Row(userId='60'),\n",
       " Row(userId='68'),\n",
       " Row(userId='90'),\n",
       " Row(userId='200003'),\n",
       " Row(userId='19'),\n",
       " Row(userId='300023'),\n",
       " Row(userId='300024'),\n",
       " Row(userId='128'),\n",
       " Row(userId='23'),\n",
       " Row(userId='41'),\n",
       " Row(userId='102'),\n",
       " Row(userId='55'),\n",
       " Row(userId='200008'),\n",
       " Row(userId='111'),\n",
       " Row(userId='100016'),\n",
       " Row(userId='93'),\n",
       " Row(userId='95'),\n",
       " Row(userId='200005'),\n",
       " Row(userId='38'),\n",
       " Row(userId='40'),\n",
       " Row(userId='200009'),\n",
       " Row(userId='25'),\n",
       " Row(userId='135'),\n",
       " Row(userId='156'),\n",
       " Row(userId='44'),\n",
       " Row(userId='144'),\n",
       " Row(userId='115'),\n",
       " Row(userId='82'),\n",
       " Row(userId='200023'),\n",
       " Row(userId='92'),\n",
       " Row(userId='108'),\n",
       " Row(userId='117'),\n",
       " Row(userId='300010'),\n",
       " Row(userId='86'),\n",
       " Row(userId='300014'),\n",
       " Row(userId='81'),\n",
       " Row(userId='114'),\n",
       " Row(userId='33'),\n",
       " Row(userId='150'),\n",
       " Row(userId='200025'),\n",
       " Row(userId='300003'),\n",
       " Row(userId='153'),\n",
       " Row(userId='141'),\n",
       " Row(userId='148'),\n",
       " Row(userId='97'),\n",
       " Row(userId='67'),\n",
       " Row(userId='84'),\n",
       " Row(userId='300025'),\n",
       " Row(userId='79'),\n",
       " Row(userId='24'),\n",
       " Row(userId='9'),\n",
       " Row(userId='116'),\n",
       " Row(userId='152'),\n",
       " Row(userId='134'),\n",
       " Row(userId='88'),\n",
       " Row(userId='149'),\n",
       " Row(userId='20'),\n",
       " Row(userId='200006'),\n",
       " Row(userId='142'),\n",
       " Row(userId='56'),\n",
       " Row(userId='127'),\n",
       " Row(userId='300009'),\n",
       " Row(userId='36'),\n",
       " Row(userId='10'),\n",
       " Row(userId='37'),\n",
       " Row(userId='300022'),\n",
       " Row(userId='49'),\n",
       " Row(userId='300021'),\n",
       " Row(userId='200004'),\n",
       " Row(userId='300005'),\n",
       " Row(userId='300020'),\n",
       " Row(userId='63'),\n",
       " Row(userId='65'),\n",
       " Row(userId='4'),\n",
       " Row(userId='39'),\n",
       " Row(userId='200012'),\n",
       " Row(userId='62'),\n",
       " Row(userId='83'),\n",
       " Row(userId='109'),\n",
       " Row(userId='123'),\n",
       " Row(userId='200022'),\n",
       " Row(userId='13'),\n",
       " Row(userId='200019'),\n",
       " Row(userId='14'),\n",
       " Row(userId='21'),\n",
       " Row(userId='66'),\n",
       " Row(userId='91'),\n",
       " Row(userId='94'),\n",
       " Row(userId='137'),\n",
       " Row(userId='72'),\n",
       " Row(userId='74'),\n",
       " Row(userId='300016'),\n",
       " Row(userId='151'),\n",
       " Row(userId='76'),\n",
       " Row(userId='2'),\n",
       " Row(userId='100002'),\n",
       " Row(userId='100018'),\n",
       " Row(userId='80'),\n",
       " Row(userId='145'),\n",
       " Row(userId='50'),\n",
       " Row(userId='45'),\n",
       " Row(userId='57'),\n",
       " Row(userId='119')]"
      ]
     },
     "execution_count": 19,
     "metadata": {},
     "output_type": "execute_result"
    }
   ],
   "source": [
    "stay_users = all_users.subtract(churn_users)\n",
    "num_stay_users = stay_users.count()\n",
    "print(stay_users)\n",
    "stay_users.collect()"
   ]
  },
  {
   "cell_type": "code",
   "execution_count": 20,
   "metadata": {},
   "outputs": [
    {
     "data": {
      "text/plain": [
       "171"
      ]
     },
     "execution_count": 20,
     "metadata": {},
     "output_type": "execute_result"
    }
   ],
   "source": [
    "user_log.filter((user_log.page == \"Cancellation Confirmation\") | (user_log.page == \"Downgrade\")).dropDuplicates(['userId']).count()"
   ]
  },
  {
   "cell_type": "code",
   "execution_count": 21,
   "metadata": {},
   "outputs": [
    {
     "name": "stdout",
     "output_type": "stream",
     "text": [
      "+--------------------+------+\n",
      "|                page| count|\n",
      "+--------------------+------+\n",
      "|              Cancel|    52|\n",
      "|    Submit Downgrade|    63|\n",
      "|         Thumbs Down|  2546|\n",
      "|                Home| 10082|\n",
      "|           Downgrade|  2055|\n",
      "|         Roll Advert|  3933|\n",
      "|              Logout|  3226|\n",
      "|       Save Settings|   310|\n",
      "|Cancellation Conf...|    52|\n",
      "|               About|   495|\n",
      "|            Settings|  1514|\n",
      "|     Add to Playlist|  6526|\n",
      "|          Add Friend|  4277|\n",
      "|            NextSong|228108|\n",
      "|           Thumbs Up| 12551|\n",
      "|                Help|  1454|\n",
      "|             Upgrade|   499|\n",
      "|               Error|   252|\n",
      "|      Submit Upgrade|   159|\n",
      "+--------------------+------+\n",
      "\n"
     ]
    }
   ],
   "source": [
    "user_log.groupby([user_log.page]).count().show()"
   ]
  },
  {
   "cell_type": "markdown",
   "metadata": {},
   "source": [
    "## Explore behaviours among 2 different groups\n",
    "You can start by exploring aggregates on these two groups of users, observing how much of a specific action they experienced per a certain time unit or number of songs played."
   ]
  },
  {
   "cell_type": "code",
   "execution_count": 22,
   "metadata": {},
   "outputs": [],
   "source": [
    "#  how much of a specific action they experienced per day\n",
    "# Next Song\n",
    "get_hour = udf(lambda x: datetime.datetime.fromtimestamp(x / 1000.0).hour)\n",
    "get_day = udf(lambda x: datetime.datetime.fromtimestamp(x / 1000.0).day)\n",
    "get_month = udf(lambda x: datetime.datetime.fromtimestamp(x / 1000.0).month)\n",
    "get_year = udf(lambda x: datetime.datetime.fromtimestamp(x / 1000.0).year)\n"
   ]
  },
  {
   "cell_type": "code",
   "execution_count": 23,
   "metadata": {},
   "outputs": [],
   "source": [
    "user_log = user_log.withColumn(\"hour\", get_hour(user_log.ts))\n",
    "user_log = user_log.withColumn(\"day\", get_day(user_log.ts))\n",
    "user_log = user_log.withColumn(\"month\", get_month(user_log.ts))\n",
    "user_log = user_log.withColumn(\"year\", get_year(user_log.ts))"
   ]
  },
  {
   "cell_type": "code",
   "execution_count": 24,
   "metadata": {},
   "outputs": [
    {
     "data": {
      "text/plain": [
       "Row(artist='Martha Tilston', auth='Logged In', firstName='Colin', gender='M', itemInSession=50, lastName='Freeman', length=277.89016, level='paid', location='Bakersfield, CA', method='PUT', page='NextSong', registration=1538173362000, sessionId=29, song='Rockpools', status=200, ts=1538352117000, userAgent='Mozilla/5.0 (Windows NT 6.1; WOW64; rv:31.0) Gecko/20100101 Firefox/31.0', userId='30', hour='0', day='1', month='10', year='2018')"
      ]
     },
     "execution_count": 24,
     "metadata": {},
     "output_type": "execute_result"
    }
   ],
   "source": [
    "user_log.head()"
   ]
  },
  {
   "cell_type": "code",
   "execution_count": 25,
   "metadata": {},
   "outputs": [
    {
     "name": "stdout",
     "output_type": "stream",
     "text": [
      "['125', '51', '54', '100014', '101']\n",
      "['100010', '200002', '124', '7', '15']\n"
     ]
    }
   ],
   "source": [
    "churn_user_ids = [row.userId for row in churn_users.collect()]\n",
    "stay_user_ids = [row.userId for row in stay_users.collect()]\n",
    "print(churn_user_ids[:5])\n",
    "print(stay_user_ids[:5])"
   ]
  },
  {
   "cell_type": "code",
   "execution_count": 26,
   "metadata": {},
   "outputs": [],
   "source": [
    "churn_user_log = user_log.where(col(\"userId\").isin(churn_user_ids))"
   ]
  },
  {
   "cell_type": "code",
   "execution_count": 27,
   "metadata": {},
   "outputs": [],
   "source": [
    "stay_user_log = user_log.where(col(\"userId\").isin(stay_user_ids))"
   ]
  },
  {
   "cell_type": "code",
   "execution_count": 28,
   "metadata": {},
   "outputs": [
    {
     "name": "stdout",
     "output_type": "stream",
     "text": [
      "+------+-----+\n",
      "|userId|count|\n",
      "+------+-----+\n",
      "|    29| 3603|\n",
      "|    54| 3437|\n",
      "|    51| 2464|\n",
      "|300001| 2168|\n",
      "|   101| 2149|\n",
      "|    53| 2064|\n",
      "|    58| 2027|\n",
      "|    28| 1781|\n",
      "|    70| 1775|\n",
      "|200021| 1502|\n",
      "|200020| 1498|\n",
      "|100013| 1392|\n",
      "|   103| 1310|\n",
      "|    17| 1102|\n",
      "|    12| 1064|\n",
      "|100015| 1050|\n",
      "|   106| 1010|\n",
      "|    87| 1003|\n",
      "|100022|  964|\n",
      "|   105|  918|\n",
      "+------+-----+\n",
      "only showing top 20 rows\n",
      "\n"
     ]
    }
   ],
   "source": [
    "churn_user_log.groupby([\"userId\"]).count().orderBy(desc(\"count\")).show()"
   ]
  },
  {
   "cell_type": "code",
   "execution_count": 29,
   "metadata": {},
   "outputs": [
    {
     "name": "stdout",
     "output_type": "stream",
     "text": [
      "+------+-----+\n",
      "|userId|count|\n",
      "+------+-----+\n",
      "|    39| 9632|\n",
      "|    92| 7230|\n",
      "|   140| 6880|\n",
      "|300011| 5732|\n",
      "|   124| 4825|\n",
      "|300021| 4659|\n",
      "|300017| 4428|\n",
      "|    85| 4370|\n",
      "|    42| 4257|\n",
      "|200023| 3769|\n",
      "|     6| 3761|\n",
      "|   100| 3214|\n",
      "|     9| 3191|\n",
      "|   126| 3102|\n",
      "|300015| 3051|\n",
      "|    91| 3014|\n",
      "|    98| 2891|\n",
      "|    74| 2887|\n",
      "|   118| 2868|\n",
      "|   136| 2567|\n",
      "+------+-----+\n",
      "only showing top 20 rows\n",
      "\n"
     ]
    }
   ],
   "source": [
    "stay_user_log.groupby([\"userId\"]).count().orderBy(desc(\"count\")).show()"
   ]
  },
  {
   "cell_type": "code",
   "execution_count": 30,
   "metadata": {},
   "outputs": [
    {
     "name": "stdout",
     "output_type": "stream",
     "text": [
      "+------------------+\n",
      "|avg(count(userId))|\n",
      "+------------------+\n",
      "| 862.7692307692307|\n",
      "+------------------+\n",
      "\n"
     ]
    }
   ],
   "source": [
    "churn_user_log.groupby([\"userId\"]) \\\n",
    "    .agg({'userId':'count'}) \\\n",
    "    .agg({'count(userId)':'avg'}) \\\n",
    "    .show()"
   ]
  },
  {
   "cell_type": "code",
   "execution_count": 31,
   "metadata": {},
   "outputs": [
    {
     "name": "stdout",
     "output_type": "stream",
     "text": [
      "+------------------+\n",
      "|avg(count(userId))|\n",
      "+------------------+\n",
      "|1348.4971098265896|\n",
      "+------------------+\n",
      "\n"
     ]
    }
   ],
   "source": [
    "stay_user_log.groupby([\"userId\"]) \\\n",
    "    .agg({'userId':'count'}) \\\n",
    "    .agg({'count(userId)':'avg'}) \\\n",
    "    .show()"
   ]
  },
  {
   "cell_type": "markdown",
   "metadata": {},
   "source": [
    "## Explore time information"
   ]
  },
  {
   "cell_type": "code",
   "execution_count": 32,
   "metadata": {},
   "outputs": [
    {
     "name": "stdout",
     "output_type": "stream",
     "text": [
      "+----+-----+------+\n",
      "|year|month| count|\n",
      "+----+-----+------+\n",
      "|2018|   10|144916|\n",
      "|2018|   12|     4|\n",
      "|2018|   11|133234|\n",
      "+----+-----+------+\n",
      "\n"
     ]
    }
   ],
   "source": [
    "user_log.select([\"year\", \"month\"]).groupby([\"year\", \"month\"]).count().show()"
   ]
  },
  {
   "cell_type": "markdown",
   "metadata": {},
   "source": [
    "## Explore user profile information"
   ]
  },
  {
   "cell_type": "code",
   "execution_count": 33,
   "metadata": {},
   "outputs": [
    {
     "name": "stdout",
     "output_type": "stream",
     "text": [
      "+------+------+\n",
      "|gender| count|\n",
      "+------+------+\n",
      "|     F|154578|\n",
      "|     M|123576|\n",
      "+------+------+\n",
      "\n"
     ]
    }
   ],
   "source": [
    "user_log.groupby([\"gender\"]).count().show()"
   ]
  },
  {
   "cell_type": "code",
   "execution_count": 34,
   "metadata": {},
   "outputs": [
    {
     "name": "stdout",
     "output_type": "stream",
     "text": [
      "+--------------------+-----+\n",
      "|            location|count|\n",
      "+--------------------+-----+\n",
      "|     Gainesville, FL| 1229|\n",
      "|Atlantic City-Ham...| 2176|\n",
      "|Deltona-Daytona B...|   73|\n",
      "|San Diego-Carlsba...|  754|\n",
      "|Cleveland-Elyria, OH| 1392|\n",
      "|Kingsport-Bristol...| 1863|\n",
      "|New Haven-Milford...| 4007|\n",
      "|Birmingham-Hoover...|   75|\n",
      "|  Corpus Christi, TX|   11|\n",
      "|         Dubuque, IA|  651|\n",
      "|Las Vegas-Henders...| 2042|\n",
      "|Indianapolis-Carm...|  970|\n",
      "|Seattle-Tacoma-Be...|  246|\n",
      "|          Albany, OR|   23|\n",
      "|   Winston-Salem, NC|  819|\n",
      "|     Bakersfield, CA| 1775|\n",
      "|Los Angeles-Long ...|30131|\n",
      "|Minneapolis-St. P...| 2134|\n",
      "|San Francisco-Oak...| 2647|\n",
      "|Phoenix-Mesa-Scot...| 4846|\n",
      "+--------------------+-----+\n",
      "only showing top 20 rows\n",
      "\n"
     ]
    }
   ],
   "source": [
    "user_log.groupby([\"location\"]).count().show()"
   ]
  },
  {
   "cell_type": "code",
   "execution_count": 35,
   "metadata": {},
   "outputs": [
    {
     "name": "stdout",
     "output_type": "stream",
     "text": [
      "+------+-------------+-----+\n",
      "|userId|itemInSession|count|\n",
      "+------+-------------+-----+\n",
      "|    78|           33|    3|\n",
      "|    78|           47|    4|\n",
      "|    78|           78|    1|\n",
      "|    87|            5|   22|\n",
      "|    39|           28|   66|\n",
      "|   142|           87|    8|\n",
      "|    36|           37|    9|\n",
      "|    33|           11|   11|\n",
      "|    27|           54|    2|\n",
      "|    92|           11|   74|\n",
      "|    81|            8|   18|\n",
      "|   113|           41|   21|\n",
      "|   115|           18|   10|\n",
      "|   101|           68|    6|\n",
      "|   118|           46|   17|\n",
      "|   121|          108|    2|\n",
      "|   121|          124|    3|\n",
      "|   101|          180|    3|\n",
      "|    17|            9|    6|\n",
      "|    17|           21|    5|\n",
      "+------+-------------+-----+\n",
      "only showing top 20 rows\n",
      "\n"
     ]
    }
   ],
   "source": [
    "user_log.groupby([\"userId\", \"itemInSession\"]).count().show()"
   ]
  },
  {
   "cell_type": "code",
   "execution_count": 36,
   "metadata": {},
   "outputs": [
    {
     "name": "stdout",
     "output_type": "stream",
     "text": [
      "+------+---------+-----+\n",
      "|userId|   length|count|\n",
      "+------+---------+-----+\n",
      "|    25|223.81669|    2|\n",
      "|    87|  241.162|    2|\n",
      "|    25|244.00934|    1|\n",
      "|   131|264.01914|    1|\n",
      "|    39|214.12526|    1|\n",
      "|    33|258.89914|    1|\n",
      "|    15| 177.8673|    1|\n",
      "|    81|358.66077|    1|\n",
      "|   131|260.44036|    1|\n",
      "|    29|207.20281|    1|\n",
      "|   124|232.77669|    2|\n",
      "|    61|464.92689|    1|\n",
      "|    77|181.21098|    2|\n",
      "|   124|245.26322|    1|\n",
      "|   127|255.97342|    1|\n",
      "|   100|246.80444|    2|\n",
      "|    51|310.88281|    1|\n",
      "|   105|162.45506|    1|\n",
      "|   100|165.79873|    1|\n",
      "|   100|147.25179|    1|\n",
      "+------+---------+-----+\n",
      "only showing top 20 rows\n",
      "\n"
     ]
    }
   ],
   "source": [
    "user_log.groupby([\"userId\", \"length\"]).count().show()"
   ]
  },
  {
   "cell_type": "markdown",
   "metadata": {},
   "source": [
    "## Explore song and artist information"
   ]
  },
  {
   "cell_type": "code",
   "execution_count": 104,
   "metadata": {},
   "outputs": [
    {
     "name": "stdout",
     "output_type": "stream",
     "text": [
      "+----+------+\n",
      "|song|length|\n",
      "+----+------+\n",
      "|null|  null|\n",
      "+----+------+\n",
      "\n"
     ]
    }
   ],
   "source": [
    "user_log.where(user_log.page != \"NextSong\").select([\"song\", \"length\"]).dropDuplicates([\"song\", \"length\"]).show()"
   ]
  },
  {
   "cell_type": "code",
   "execution_count": 37,
   "metadata": {},
   "outputs": [
    {
     "data": {
      "text/plain": [
       "65960"
      ]
     },
     "execution_count": 37,
     "metadata": {},
     "output_type": "execute_result"
    }
   ],
   "source": [
    "user_log.groupby([\"song\", \"length\"]).count().count()"
   ]
  },
  {
   "cell_type": "code",
   "execution_count": 38,
   "metadata": {},
   "outputs": [
    {
     "name": "stdout",
     "output_type": "stream",
     "text": [
      "+-------+-----------------+\n",
      "|summary|           length|\n",
      "+-------+-----------------+\n",
      "|  count|           228108|\n",
      "|   mean|249.1171819778458|\n",
      "| stddev|99.23517921058361|\n",
      "|    min|          0.78322|\n",
      "|    max|       3024.66567|\n",
      "+-------+-----------------+\n",
      "\n"
     ]
    }
   ],
   "source": [
    "user_log.describe(\"length\").show()"
   ]
  },
  {
   "cell_type": "code",
   "execution_count": 39,
   "metadata": {},
   "outputs": [
    {
     "data": {
      "text/plain": [
       "58481"
      ]
     },
     "execution_count": 39,
     "metadata": {},
     "output_type": "execute_result"
    }
   ],
   "source": [
    "user_log.groupby([\"song\"]).count().count()"
   ]
  },
  {
   "cell_type": "code",
   "execution_count": 40,
   "metadata": {},
   "outputs": [
    {
     "name": "stdout",
     "output_type": "stream",
     "text": [
      "+-------+--------------------+\n",
      "|summary|                song|\n",
      "+-------+--------------------+\n",
      "|  count|              228108|\n",
      "|   mean|            Infinity|\n",
      "| stddev|                 NaN|\n",
      "|    min|\u001c",
      "ÃÂg ÃÂtti Gr...|\n",
      "|    max|ÃÂau hafa slopp...|\n",
      "+-------+--------------------+\n",
      "\n"
     ]
    }
   ],
   "source": [
    "user_log.describe(\"song\").show()"
   ]
  },
  {
   "cell_type": "code",
   "execution_count": 41,
   "metadata": {},
   "outputs": [
    {
     "data": {
      "text/plain": [
       "17656"
      ]
     },
     "execution_count": 41,
     "metadata": {},
     "output_type": "execute_result"
    }
   ],
   "source": [
    "user_log.groupby([\"artist\"]).count().count()"
   ]
  },
  {
   "cell_type": "code",
   "execution_count": 42,
   "metadata": {},
   "outputs": [
    {
     "name": "stdout",
     "output_type": "stream",
     "text": [
      "+-------+------------------+\n",
      "|summary|            artist|\n",
      "+-------+------------------+\n",
      "|  count|            228108|\n",
      "|   mean| 551.0852017937219|\n",
      "| stddev|1217.7693079161374|\n",
      "|    min|               !!!|\n",
      "|    max| ÃÂlafur Arnalds|\n",
      "+-------+------------------+\n",
      "\n"
     ]
    }
   ],
   "source": [
    "user_log.describe(\"artist\").show()"
   ]
  },
  {
   "cell_type": "markdown",
   "metadata": {},
   "source": [
    "# Feature Engineering\n",
    "Once you've familiarized yourself with the data, build out the features you find promising to train your model on. To work with the full dataset, you can follow the following steps.\n",
    "- Write a script to extract the necessary features from the smaller subset of data\n",
    "- Ensure that your script is scalable, using the best practices discussed in Lesson 3\n",
    "- Try your script on the full data set, debugging your script if necessary\n",
    "\n",
    "If you are working in the classroom workspace, you can just extract features based on the small subset of data contained here. Be sure to transfer over this work to the larger dataset when you work on your Spark cluster."
   ]
  },
  {
   "cell_type": "code",
   "execution_count": 126,
   "metadata": {},
   "outputs": [
    {
     "name": "stdout",
     "output_type": "stream",
     "text": [
      "+------+------+--------+--------------+\n",
      "|userId|gender|numSongs|numUniqueSongs|\n",
      "+------+------+--------+--------------+\n",
      "|100010|     F|     275|           269|\n",
      "|200002|     M|     387|           378|\n",
      "|   125|     M|       8|             8|\n",
      "|   124|     F|    4079|          3339|\n",
      "|    51|     M|    2111|          1854|\n",
      "|     7|     M|     150|           148|\n",
      "|    15|     M|    1914|          1707|\n",
      "|    54|     F|    2841|          2414|\n",
      "|   155|     F|     820|           759|\n",
      "|100014|     M|     257|           248|\n",
      "|   132|     F|    1928|          1718|\n",
      "|   154|     F|      84|            83|\n",
      "|   101|     M|    1797|          1608|\n",
      "|    11|     F|     647|           616|\n",
      "|   138|     M|    2070|          1791|\n",
      "|300017|     F|    3632|          3013|\n",
      "|100021|     M|     230|           226|\n",
      "|    29|     M|    3028|          2562|\n",
      "|    69|     F|    1125|          1036|\n",
      "|   112|     M|     215|           211|\n",
      "+------+------+--------+--------------+\n",
      "only showing top 20 rows\n",
      "\n"
     ]
    }
   ],
   "source": [
    "train_data = None\n",
    "train_data = user_log.groupby(\"userId\") \\\n",
    "    .agg(F.max(\"gender\").alias(\"gender\"), \\\n",
    "        F.count(\"song\").alias(\"numSongs\"), \\\n",
    "        F.countDistinct(\"song\").alias(\"numUniqueSongs\"))\n",
    "train_data.show()"
   ]
  },
  {
   "cell_type": "code",
   "execution_count": 128,
   "metadata": {},
   "outputs": [],
   "source": [
    "gender_indexer = StringIndexer(inputCol=\"gender\", outputCol=\"genderValue\")\n",
    "train_data = gender_indexer.fit(train_data).transform(train_data)"
   ]
  },
  {
   "cell_type": "code",
   "execution_count": 129,
   "metadata": {},
   "outputs": [
    {
     "name": "stdout",
     "output_type": "stream",
     "text": [
      "+------+------+--------+--------------+-----------+\n",
      "|userId|gender|numSongs|numUniqueSongs|genderValue|\n",
      "+------+------+--------+--------------+-----------+\n",
      "|100010|     F|     275|           269|        1.0|\n",
      "|200002|     M|     387|           378|        0.0|\n",
      "|   125|     M|       8|             8|        0.0|\n",
      "|   124|     F|    4079|          3339|        1.0|\n",
      "|    51|     M|    2111|          1854|        0.0|\n",
      "|     7|     M|     150|           148|        0.0|\n",
      "|    15|     M|    1914|          1707|        0.0|\n",
      "|    54|     F|    2841|          2414|        1.0|\n",
      "|   155|     F|     820|           759|        1.0|\n",
      "|100014|     M|     257|           248|        0.0|\n",
      "|   132|     F|    1928|          1718|        1.0|\n",
      "|   154|     F|      84|            83|        1.0|\n",
      "|   101|     M|    1797|          1608|        0.0|\n",
      "|    11|     F|     647|           616|        1.0|\n",
      "|   138|     M|    2070|          1791|        0.0|\n",
      "|300017|     F|    3632|          3013|        1.0|\n",
      "|100021|     M|     230|           226|        0.0|\n",
      "|    29|     M|    3028|          2562|        0.0|\n",
      "|    69|     F|    1125|          1036|        1.0|\n",
      "|   112|     M|     215|           211|        0.0|\n",
      "+------+------+--------+--------------+-----------+\n",
      "only showing top 20 rows\n",
      "\n"
     ]
    }
   ],
   "source": [
    "train_data.show()"
   ]
  },
  {
   "cell_type": "code",
   "execution_count": 130,
   "metadata": {},
   "outputs": [],
   "source": [
    "# churn_user_ids = [row.userId for row in churn_users.collect()]\n",
    "is_churn = udf(lambda x: x in churn_user_ids)\n"
   ]
  },
  {
   "cell_type": "code",
   "execution_count": 131,
   "metadata": {},
   "outputs": [],
   "source": [
    "train_data = train_data.withColumn(\"is_churn\", is_churn(train_data.userId))"
   ]
  },
  {
   "cell_type": "code",
   "execution_count": 132,
   "metadata": {},
   "outputs": [],
   "source": [
    "# Label must be numeric value\n",
    "indexer = StringIndexer(inputCol=\"is_churn\", outputCol=\"label\")\n",
    "train_data = indexer.fit(train_data).transform(train_data)"
   ]
  },
  {
   "cell_type": "code",
   "execution_count": 133,
   "metadata": {},
   "outputs": [
    {
     "name": "stdout",
     "output_type": "stream",
     "text": [
      "+------+------+--------+--------------+-----------+--------+-----+\n",
      "|userId|gender|numSongs|numUniqueSongs|genderValue|is_churn|label|\n",
      "+------+------+--------+--------------+-----------+--------+-----+\n",
      "|100010|     F|     275|           269|        1.0|   false|  0.0|\n",
      "|200002|     M|     387|           378|        0.0|   false|  0.0|\n",
      "|   125|     M|       8|             8|        0.0|    true|  1.0|\n",
      "|   124|     F|    4079|          3339|        1.0|   false|  0.0|\n",
      "|    51|     M|    2111|          1854|        0.0|    true|  1.0|\n",
      "|     7|     M|     150|           148|        0.0|   false|  0.0|\n",
      "|    15|     M|    1914|          1707|        0.0|   false|  0.0|\n",
      "|    54|     F|    2841|          2414|        1.0|    true|  1.0|\n",
      "|   155|     F|     820|           759|        1.0|   false|  0.0|\n",
      "|100014|     M|     257|           248|        0.0|    true|  1.0|\n",
      "|   132|     F|    1928|          1718|        1.0|   false|  0.0|\n",
      "|   154|     F|      84|            83|        1.0|   false|  0.0|\n",
      "|   101|     M|    1797|          1608|        0.0|    true|  1.0|\n",
      "|    11|     F|     647|           616|        1.0|   false|  0.0|\n",
      "|   138|     M|    2070|          1791|        0.0|   false|  0.0|\n",
      "|300017|     F|    3632|          3013|        1.0|   false|  0.0|\n",
      "|100021|     M|     230|           226|        0.0|    true|  1.0|\n",
      "|    29|     M|    3028|          2562|        0.0|    true|  1.0|\n",
      "|    69|     F|    1125|          1036|        1.0|   false|  0.0|\n",
      "|   112|     M|     215|           211|        0.0|   false|  0.0|\n",
      "+------+------+--------+--------------+-----------+--------+-----+\n",
      "only showing top 20 rows\n",
      "\n"
     ]
    }
   ],
   "source": [
    "train_data.show()"
   ]
  },
  {
   "cell_type": "code",
   "execution_count": 134,
   "metadata": {},
   "outputs": [],
   "source": [
    "# Features must be vector\n",
    "assembler = VectorAssembler(inputCols=[\"numSongs\", \"numUniqueSongs\", \"genderValue\"], outputCol=\"NumFeatures\")\n",
    "train_data = assembler.transform(train_data)"
   ]
  },
  {
   "cell_type": "code",
   "execution_count": 135,
   "metadata": {},
   "outputs": [
    {
     "name": "stdout",
     "output_type": "stream",
     "text": [
      "+------+------+--------+--------------+-----------+--------+-----+-------------------+\n",
      "|userId|gender|numSongs|numUniqueSongs|genderValue|is_churn|label|        NumFeatures|\n",
      "+------+------+--------+--------------+-----------+--------+-----+-------------------+\n",
      "|100010|     F|     275|           269|        1.0|   false|  0.0|  [275.0,269.0,1.0]|\n",
      "|200002|     M|     387|           378|        0.0|   false|  0.0|  [387.0,378.0,0.0]|\n",
      "|   125|     M|       8|             8|        0.0|    true|  1.0|      [8.0,8.0,0.0]|\n",
      "|   124|     F|    4079|          3339|        1.0|   false|  0.0|[4079.0,3339.0,1.0]|\n",
      "|    51|     M|    2111|          1854|        0.0|    true|  1.0|[2111.0,1854.0,0.0]|\n",
      "|     7|     M|     150|           148|        0.0|   false|  0.0|  [150.0,148.0,0.0]|\n",
      "|    15|     M|    1914|          1707|        0.0|   false|  0.0|[1914.0,1707.0,0.0]|\n",
      "|    54|     F|    2841|          2414|        1.0|    true|  1.0|[2841.0,2414.0,1.0]|\n",
      "|   155|     F|     820|           759|        1.0|   false|  0.0|  [820.0,759.0,1.0]|\n",
      "|100014|     M|     257|           248|        0.0|    true|  1.0|  [257.0,248.0,0.0]|\n",
      "|   132|     F|    1928|          1718|        1.0|   false|  0.0|[1928.0,1718.0,1.0]|\n",
      "|   154|     F|      84|            83|        1.0|   false|  0.0|    [84.0,83.0,1.0]|\n",
      "|   101|     M|    1797|          1608|        0.0|    true|  1.0|[1797.0,1608.0,0.0]|\n",
      "|    11|     F|     647|           616|        1.0|   false|  0.0|  [647.0,616.0,1.0]|\n",
      "|   138|     M|    2070|          1791|        0.0|   false|  0.0|[2070.0,1791.0,0.0]|\n",
      "|300017|     F|    3632|          3013|        1.0|   false|  0.0|[3632.0,3013.0,1.0]|\n",
      "|100021|     M|     230|           226|        0.0|    true|  1.0|  [230.0,226.0,0.0]|\n",
      "|    29|     M|    3028|          2562|        0.0|    true|  1.0|[3028.0,2562.0,0.0]|\n",
      "|    69|     F|    1125|          1036|        1.0|   false|  0.0|[1125.0,1036.0,1.0]|\n",
      "|   112|     M|     215|           211|        0.0|   false|  0.0|  [215.0,211.0,0.0]|\n",
      "+------+------+--------+--------------+-----------+--------+-----+-------------------+\n",
      "only showing top 20 rows\n",
      "\n"
     ]
    }
   ],
   "source": [
    "train_data.show()"
   ]
  },
  {
   "cell_type": "code",
   "execution_count": 136,
   "metadata": {},
   "outputs": [],
   "source": [
    "# Scale the feature\n",
    "scaler = Normalizer(inputCol=\"NumFeatures\", outputCol=\"ScaledNumFeatures\")\n",
    "train_data = scaler.transform(train_data)\n"
   ]
  },
  {
   "cell_type": "code",
   "execution_count": 137,
   "metadata": {},
   "outputs": [
    {
     "name": "stdout",
     "output_type": "stream",
     "text": [
      "+------+------+--------+--------------+-----------+--------+-----+-------------------+--------------------+\n",
      "|userId|gender|numSongs|numUniqueSongs|genderValue|is_churn|label|        NumFeatures|   ScaledNumFeatures|\n",
      "+------+------+--------+--------------+-----------+--------+-----+-------------------+--------------------+\n",
      "|100010|     F|     275|           269|        1.0|   false|  0.0|  [275.0,269.0,1.0]|[0.71485985831292...|\n",
      "|200002|     M|     387|           378|        0.0|   false|  0.0|  [387.0,378.0,0.0]|[0.71537617920553...|\n",
      "|   125|     M|       8|             8|        0.0|    true|  1.0|      [8.0,8.0,0.0]|[0.70710678118654...|\n",
      "|   124|     F|    4079|          3339|        1.0|   false|  0.0|[4079.0,3339.0,1.0]|[0.77380512359468...|\n",
      "|    51|     M|    2111|          1854|        0.0|    true|  1.0|[2111.0,1854.0,0.0]|[0.75136274558187...|\n",
      "|     7|     M|     150|           148|        0.0|   false|  0.0|  [150.0,148.0,0.0]|[0.71183643283233...|\n",
      "|    15|     M|    1914|          1707|        0.0|   false|  0.0|[1914.0,1707.0,0.0]|[0.74631113902086...|\n",
      "|    54|     F|    2841|          2414|        1.0|    true|  1.0|[2841.0,2414.0,1.0]|[0.76205178904582...|\n",
      "|   155|     F|     820|           759|        1.0|   false|  0.0|  [820.0,759.0,1.0]|[0.73387604152160...|\n",
      "|100014|     M|     257|           248|        0.0|    true|  1.0|  [257.0,248.0,0.0]|[0.71959441596899...|\n",
      "|   132|     F|    1928|          1718|        1.0|   false|  0.0|[1928.0,1718.0,1.0]|[0.74659683793534...|\n",
      "|   154|     F|      84|            83|        1.0|   false|  0.0|    [84.0,83.0,1.0]|[0.71130269739377...|\n",
      "|   101|     M|    1797|          1608|        0.0|    true|  1.0|[1797.0,1608.0,0.0]|[0.74520877494892...|\n",
      "|    11|     F|     647|           616|        1.0|   false|  0.0|  [647.0,616.0,1.0]|[0.72424395032457...|\n",
      "|   138|     M|    2070|          1791|        0.0|   false|  0.0|[2070.0,1791.0,0.0]|[0.75623125387918...|\n",
      "|300017|     F|    3632|          3013|        1.0|   false|  0.0|[3632.0,3013.0,1.0]|[0.76964364927110...|\n",
      "|100021|     M|     230|           226|        0.0|    true|  1.0|  [230.0,226.0,0.0]|[0.71328203040941...|\n",
      "|    29|     M|    3028|          2562|        0.0|    true|  1.0|[3028.0,2562.0,0.0]|[0.76340541102983...|\n",
      "|    69|     F|    1125|          1036|        1.0|   false|  0.0|[1125.0,1036.0,1.0]|[0.73560496691859...|\n",
      "|   112|     M|     215|           211|        0.0|   false|  0.0|  [215.0,211.0,0.0]|[0.71371481950803...|\n",
      "+------+------+--------+--------------+-----------+--------+-----+-------------------+--------------------+\n",
      "only showing top 20 rows\n",
      "\n"
     ]
    }
   ],
   "source": [
    "train_data.show()"
   ]
  },
  {
   "cell_type": "code",
   "execution_count": 138,
   "metadata": {},
   "outputs": [
    {
     "name": "stdout",
     "output_type": "stream",
     "text": [
      "['100010', '200002', '125', '51', '124', '7', '54', '15', '155', '132', '154', '100014', '101', '11', '138', '300017', '29', '69', '100021', '42']\n"
     ]
    }
   ],
   "source": [
    "user_id_mapping = [row.userId for row in train_data.select(\"userId\").collect()]\n",
    "print(user_id_mapping[:20])"
   ]
  },
  {
   "cell_type": "code",
   "execution_count": 139,
   "metadata": {},
   "outputs": [
    {
     "name": "stdout",
     "output_type": "stream",
     "text": [
      "+-----+--------------------+\n",
      "|label|            features|\n",
      "+-----+--------------------+\n",
      "|  0.0|[0.71485985831292...|\n",
      "|  0.0|[0.71537617920553...|\n",
      "|  1.0|[0.70710678118654...|\n",
      "|  0.0|[0.77380512359468...|\n",
      "|  1.0|[0.75136274558187...|\n",
      "|  0.0|[0.71183643283233...|\n",
      "|  0.0|[0.74631113902086...|\n",
      "|  1.0|[0.76205178904582...|\n",
      "|  0.0|[0.73387604152160...|\n",
      "|  1.0|[0.71959441596899...|\n",
      "|  0.0|[0.74659683793534...|\n",
      "|  0.0|[0.71130269739377...|\n",
      "|  1.0|[0.74520877494892...|\n",
      "|  0.0|[0.72424395032457...|\n",
      "|  0.0|[0.75623125387918...|\n",
      "|  0.0|[0.76964364927110...|\n",
      "|  1.0|[0.71328203040941...|\n",
      "|  1.0|[0.76340541102983...|\n",
      "|  0.0|[0.73560496691859...|\n",
      "|  0.0|[0.71371481950803...|\n",
      "+-----+--------------------+\n",
      "only showing top 20 rows\n",
      "\n"
     ]
    }
   ],
   "source": [
    "train_data2 = train_data.select(col(\"label\"), col(\"ScaledNumFeatures\").alias(\"features\"))\n",
    "train_data2.show()"
   ]
  },
  {
   "cell_type": "markdown",
   "metadata": {},
   "source": [
    "# Modeling\n",
    "Split the full dataset into train, test, and validation sets. Test out several of the machine learning methods you learned. Evaluate the accuracy of the various models, tuning parameters as necessary. Determine your winning model based on test accuracy and report results on the validation set. Since the churned users are a fairly small subset, I suggest using F1 score as the metric to optimize."
   ]
  },
  {
   "cell_type": "code",
   "execution_count": 149,
   "metadata": {},
   "outputs": [],
   "source": [
    "rest, validation = train_data2.randomSplit([0.9, 0.1], seed=42)"
   ]
  },
  {
   "cell_type": "code",
   "execution_count": 150,
   "metadata": {},
   "outputs": [],
   "source": [
    "lr =  LogisticRegression(maxIter=10, regParam=0.0, elasticNetParam=0)\n",
    "\n",
    "pipeline = Pipeline(stages=[lr])"
   ]
  },
  {
   "cell_type": "code",
   "execution_count": 151,
   "metadata": {},
   "outputs": [],
   "source": [
    "paramGrid = ParamGridBuilder() \\\n",
    "    .addGrid(lr.regParam,[0.0, 0.1]) \\\n",
    "    .build()\n",
    "\n",
    "\n",
    "crossval = CrossValidator(estimator=pipeline,\n",
    "                          estimatorParamMaps=paramGrid,\n",
    "                          evaluator=BinaryClassificationEvaluator(),\n",
    "                          numFolds=3)"
   ]
  },
  {
   "cell_type": "code",
   "execution_count": 152,
   "metadata": {},
   "outputs": [],
   "source": [
    "cvModel = crossval.fit(rest)"
   ]
  },
  {
   "cell_type": "code",
   "execution_count": 153,
   "metadata": {},
   "outputs": [
    {
     "data": {
      "text/plain": [
       "[0.5915208350349861, 0.5897458411609355]"
      ]
     },
     "execution_count": 153,
     "metadata": {},
     "output_type": "execute_result"
    }
   ],
   "source": [
    "cvModel.avgMetrics"
   ]
  },
  {
   "cell_type": "code",
   "execution_count": 154,
   "metadata": {},
   "outputs": [],
   "source": [
    "results = cvModel.transform(validation)"
   ]
  },
  {
   "cell_type": "code",
   "execution_count": 155,
   "metadata": {},
   "outputs": [
    {
     "name": "stdout",
     "output_type": "stream",
     "text": [
      "9\n",
      "16\n"
     ]
    }
   ],
   "source": [
    "print(results.filter(results.label == results.prediction).count())\n",
    "print(results.count())"
   ]
  },
  {
   "cell_type": "code",
   "execution_count": 158,
   "metadata": {},
   "outputs": [
    {
     "name": "stdout",
     "output_type": "stream",
     "text": [
      "7\n"
     ]
    }
   ],
   "source": [
    "print(results.filter(results.label == 1).count())\n"
   ]
  },
  {
   "cell_type": "code",
   "execution_count": 156,
   "metadata": {},
   "outputs": [
    {
     "data": {
      "text/plain": [
       "0.5625"
      ]
     },
     "execution_count": 156,
     "metadata": {},
     "output_type": "execute_result"
    }
   ],
   "source": [
    "9 / 16.0"
   ]
  },
  {
   "cell_type": "code",
   "execution_count": 157,
   "metadata": {},
   "outputs": [
    {
     "data": {
      "text/plain": [
       "0.7688888888888888"
      ]
     },
     "execution_count": 157,
     "metadata": {},
     "output_type": "execute_result"
    }
   ],
   "source": [
    "(225 - 52) / 225.0"
   ]
  },
  {
   "cell_type": "markdown",
   "metadata": {},
   "source": [
    "# Final Steps\n",
    "Clean up your code, adding comments and renaming variables to make the code easier to read and maintain. Refer to the Spark Project Overview page and Data Scientist Capstone Project Rubric to make sure you are including all components of the capstone project and meet all expectations. Remember, this includes thorough documentation in a README file in a Github repository, as well as a web app or blog post."
   ]
  },
  {
   "cell_type": "code",
   "execution_count": null,
   "metadata": {},
   "outputs": [],
   "source": []
  }
 ],
 "metadata": {
  "kernelspec": {
   "display_name": "Python 3",
   "language": "python",
   "name": "python3"
  },
  "language_info": {
   "codemirror_mode": {
    "name": "ipython",
    "version": 3
   },
   "file_extension": ".py",
   "mimetype": "text/x-python",
   "name": "python",
   "nbconvert_exporter": "python",
   "pygments_lexer": "ipython3",
   "version": "3.6.3"
  }
 },
 "nbformat": 4,
 "nbformat_minor": 2
}
